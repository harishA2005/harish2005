{
 "cells": [
  {
   "cell_type": "code",
   "execution_count": 17,
   "id": "14cb5c1d-196f-429c-aeb3-87c12ff2e02f",
   "metadata": {},
   "outputs": [
    {
     "name": "stdout",
     "output_type": "stream",
     "text": [
      "[3 4 5 6]\n",
      "[1 3 5 7 9]\n",
      "[9 8 7 6 5 4 3 2 1]\n",
      "[[2 3]\n",
      " [5 6]]\n"
     ]
    }
   ],
   "source": [
    "import numpy as np\n",
    "#Slicing Of An Arrray\n",
    "arr=np.array([1,2,3,4,5,6,7,8,9])\n",
    "slice1=arr[2:6]\n",
    "print(slice1)\n",
    "#Slice with step of 2 \n",
    "slice2=arr[::2]\n",
    "print(slice2)\n",
    "reversed=arr[::-1]\n",
    "#reverse\n",
    "print(reversed)\n",
    "#Slicing Multidiminesional array\n",
    "arr=np.array([[1,2,3],[4,5,6],[7,8,9]])\n",
    "subarray=arr[0:2,1:3]\n",
    "print(subarray)"
   ]
  },
  {
   "cell_type": "code",
   "execution_count": 17,
   "id": "ae38656e-fe7d-4d6a-9721-cbb3956d6937",
   "metadata": {},
   "outputs": [
    {
     "name": "stdout",
     "output_type": "stream",
     "text": [
      "[1 4 7]\n",
      "1\n",
      "6\n"
     ]
    }
   ],
   "source": [
    "import numpy as np\n",
    "arr=np.array([[1,2,3],[4,5,6],[7,8,9]])\n",
    "col=arr[:,0]\n",
    "print(col)\n",
    "print(arr[0,0])\n",
    "print(arr[1,2])\n",
    "#Indexing Techniques\n",
    "#Very First One IS Basic Indexing"
   ]
  },
  {
   "cell_type": "code",
   "execution_count": 31,
   "id": "d70d5500-fbee-43c3-9133-661c12acde39",
   "metadata": {},
   "outputs": [
    {
     "name": "stdout",
     "output_type": "stream",
     "text": [
      "5\n",
      "6\n",
      "[7 7 6]\n"
     ]
    }
   ],
   "source": [
    "import numpy as np\n",
    "arr=np.array([4,5,3,4,5,7,3,7,4,6])\n",
    "print(arr[1])\n",
    "#Negative Indexing\n",
    "arr=np.array([4,5,3,4,5,7,3,7,4,6])\n",
    "print(arr[-1])\n",
    "#index element that needs a specific conditions\n",
    "print(arr[arr>5])"
   ]
  },
  {
   "cell_type": "code",
   "execution_count": 41,
   "id": "caa6b8dd-80e5-4f1b-a120-5d943627cbd6",
   "metadata": {},
   "outputs": [
    {
     "name": "stdout",
     "output_type": "stream",
     "text": [
      "[[1 2]\n",
      " [3 4]]\n",
      "[[1 2 5 6]\n",
      " [3 4 7 8]]\n",
      "[[1 2]\n",
      " [3 4]]\n",
      "[[1 2]\n",
      " [3 4]\n",
      " [5 6]\n",
      " [7 8]]\n"
     ]
    }
   ],
   "source": [
    "import numpy as np\n",
    "arr=np.array([10,20,0,40,50,60])\n",
    "arr1=np.array([[1,2],[3,4]])\n",
    "print(arr1)\n",
    "arr2=np.array([[5,6],[7,8]])\n",
    "result=np.hstack((arr1,arr2))\n",
    "print(result)\n",
    "#Vertical Join - adds elements at the top of each other\n",
    "arr=np.array([10,20,0,40,50,60])\n",
    "arr1=np.array([[1,2],[3,4]])\n",
    "print(arr1)\n",
    "arr2=np.array([[5,6],[7,8]])\n",
    "result=np.vstack((arr1,arr2))\n",
    "print(result)"
   ]
  },
  {
   "cell_type": "code",
   "execution_count": 47,
   "id": "c2e04db6-ecf4-4302-b6a3-a00b44b7b955",
   "metadata": {},
   "outputs": [
    {
     "name": "stdout",
     "output_type": "stream",
     "text": [
      "[array([10, 20]), array([ 0, 40]), array([50, 60])]\n"
     ]
    }
   ],
   "source": [
    "import numpy as np\n",
    "arr=np.array([10,20,0,40,50,60])\n",
    "otpt=np.split(arr,3)\n",
    "print(otpt)\n",
    "#Splitting Unequal Parts\n",
    "array_"
   ]
  },
  {
   "cell_type": "code",
   "execution_count": 49,
   "id": "1a02ff9a-1f62-4805-ba8d-9debb5ed8c84",
   "metadata": {},
   "outputs": [
    {
     "name": "stdout",
     "output_type": "stream",
     "text": [
      "[array([10, 20,  0]), array([40, 50]), array([60, 70])]\n"
     ]
    }
   ],
   "source": [
    "import numpy as np\n",
    "arr=np.array([10,20,0,40,50,60,70])\n",
    "otpt=np.array_split(arr,3)\n",
    "print(otpt)"
   ]
  },
  {
   "cell_type": "code",
   "execution_count": null,
   "id": "3c63ad75-fdba-40f1-8971-c01aa0c4eef3",
   "metadata": {},
   "outputs": [],
   "source": []
  }
 ],
 "metadata": {
  "kernelspec": {
   "display_name": "Python 3 (ipykernel)",
   "language": "python",
   "name": "python3"
  },
  "language_info": {
   "codemirror_mode": {
    "name": "ipython",
    "version": 3
   },
   "file_extension": ".py",
   "mimetype": "text/x-python",
   "name": "python",
   "nbconvert_exporter": "python",
   "pygments_lexer": "ipython3",
   "version": "3.12.4"
  }
 },
 "nbformat": 4,
 "nbformat_minor": 5
}
