{
  "metadata": {
    "kernelspec": {
      "name": "python",
      "display_name": "Python (Pyodide)",
      "language": "python"
    },
    "language_info": {
      "codemirror_mode": {
        "name": "python",
        "version": 3
      },
      "file_extension": ".py",
      "mimetype": "text/x-python",
      "name": "python",
      "nbconvert_exporter": "python",
      "pygments_lexer": "ipython3",
      "version": "3.8"
    }
  },
  "nbformat_minor": 5,
  "nbformat": 4,
  "cells": [
    {
      "id": "581b3b3d-d4ac-4eb8-93f5-b45d83aabc35",
      "cell_type": "code",
      "source": "import pandas as pd\nd=pd.read_csv(\"employees details.csv\")\nprint(d)",
      "metadata": {
        "trusted": true
      },
      "outputs": [
        {
          "name": "stdout",
          "output_type": "stream",
          "text": "    Emp ID Name Prefix First Name Middle Initial Last Name Gender  \\\n0   677509        Drs.       Lois              H    Walker      F   \n1   940761         Ms.     Brenda              S  Robinson      F   \n2   428945         Dr.        Joe              W  Robinson      M   \n3   408351        Drs.      Diane              I     Evans      F   \n4   193819         Mr.   Benjamin              R   Russell      M   \n..     ...         ...        ...            ...       ...    ...   \n95  639892         Mr.       Jose              K      Hill      M   \n96  704709         Dr.     Harold              Z    Nelson      M   \n97  461593         Ms.     Nicole              O      Ward      F   \n98  392491        Mrs.    Theresa              R    Murphy      F   \n99  495141        Drs.      Tammy              B     Young      F   \n\n                          E Mail     Father's Name       Mother's Name  \\\n0        lois.walker@hotmail.com     Donald Walker        Helen Walker   \n1      brenda.robinson@gmail.com  Raymond Robinson       Judy Robinson   \n2         joe.robinson@gmail.com    Scott Robinson  Stephanie Robinson   \n3          diane.evans@yahoo.com       Jason Evans      Michelle Evans   \n4   benjamin.russell@charter.net   Gregory Russell   Elizabeth Russell   \n..                           ...               ...                 ...   \n95         jose.hill@hotmail.com       Carlos Hill           Anna Hill   \n96       harold.nelson@gmail.com    Richard Nelson       Pamela Nelson   \n97         nicole.ward@yahoo.com        Ralph Ward          Julia Ward   \n98      theresa.murphy@gmail.com     George Murphy   Jacqueline Murphy   \n99       tammy.young@comcast.net      Andrew Young        Brenda Young   \n\n   Mother's Maiden Name  Salary  \n0                 Lewis  168251  \n1                 Perry   51063  \n2                Taylor   50155  \n3                 Allen  180294  \n4                Nelson  117642  \n..                  ...     ...  \n95                Hayes  129774  \n96                Smith  156194  \n97                  Lee   95673  \n98             Peterson   51015  \n99             Robinson   93650  \n\n[100 rows x 11 columns]\n"
        }
      ],
      "execution_count": 6
    },
    {
      "id": "1d1481ec-111c-4b88-847d-f48e81719d67",
      "cell_type": "code",
      "source": "df=pd.DataFrame(d)\nprint(\"column\",df.columns)\nprint(df.shape)",
      "metadata": {
        "trusted": true
      },
      "outputs": [
        {
          "name": "stdout",
          "output_type": "stream",
          "text": "column Index(['Emp ID', 'Name Prefix', 'First Name', 'Middle Initial', 'Last Name',\n       'Gender', 'E Mail', 'Father's Name', 'Mother's Name',\n       'Mother's Maiden Name', 'Salary'],\n      dtype='object')\n(100, 11)\n"
        }
      ],
      "execution_count": 8
    },
    {
      "id": "b987137b-c647-4416-998a-0a1408720ee4",
      "cell_type": "code",
      "source": "print(\"Reg No\",a['Reg No']",
      "metadata": {
        "trusted": true
      },
      "outputs": [
        {
          "ename": "<class 'SyntaxError'>",
          "evalue": "incomplete input (<ipython-input-28-52c6fb080458>, line 1)",
          "traceback": [
            "\u001b[0;36m  Cell \u001b[0;32mIn[28], line 1\u001b[0;36m\u001b[0m\n\u001b[0;31m    print(\"Reg No\",a['Reg No']\u001b[0m\n\u001b[0m                              ^\u001b[0m\n\u001b[0;31mSyntaxError\u001b[0m\u001b[0;31m:\u001b[0m incomplete input\n"
          ],
          "output_type": "error"
        }
      ],
      "execution_count": 28
    },
    {
      "id": "1d8a88b9-45a5-4db7-bf4b-03c58b97513c",
      "cell_type": "code",
      "source": "print(df[1:5])",
      "metadata": {
        "trusted": true
      },
      "outputs": [
        {
          "name": "stdout",
          "output_type": "stream",
          "text": "   Emp ID Name Prefix First Name Middle Initial Last Name Gender  \\\n1  940761         Ms.     Brenda              S  Robinson      F   \n2  428945         Dr.        Joe              W  Robinson      M   \n3  408351        Drs.      Diane              I     Evans      F   \n4  193819         Mr.   Benjamin              R   Russell      M   \n\n                         E Mail     Father's Name       Mother's Name  \\\n1     brenda.robinson@gmail.com  Raymond Robinson       Judy Robinson   \n2        joe.robinson@gmail.com    Scott Robinson  Stephanie Robinson   \n3         diane.evans@yahoo.com       Jason Evans      Michelle Evans   \n4  benjamin.russell@charter.net   Gregory Russell   Elizabeth Russell   \n\n  Mother's Maiden Name  Salary  \n1                Perry   51063  \n2               Taylor   50155  \n3                Allen  180294  \n4               Nelson  117642  \n"
        }
      ],
      "execution_count": 13
    },
    {
      "id": "5e3ca8ce-f537-4271-868f-e3d5b854cc39",
      "cell_type": "code",
      "source": "print(\"particular person details\",df.loc[9])",
      "metadata": {
        "trusted": true
      },
      "outputs": [
        {
          "name": "stdout",
          "output_type": "stream",
          "text": "particular person details Emp ID                                        162402\nName Prefix                                     Hon.\nFirst Name                                     Diana\nMiddle Initial                                     T\nLast Name                                   Peterson\nGender                                             F\nE Mail                  diana.peterson@hotmail.co.uk\nFather's Name                      Jonathan Peterson\nMother's Name                     Christina Peterson\nMother's Maiden Name                            Ross\nSalary                                         43010\nName: 9, dtype: object\n"
        }
      ],
      "execution_count": 17
    },
    {
      "id": "985d081c-d9ce-4093-a3ff-d005f2a912d2",
      "cell_type": "code",
      "source": "print(d.loc[d['Salary']==1000500])",
      "metadata": {
        "trusted": true
      },
      "outputs": [
        {
          "name": "stdout",
          "output_type": "stream",
          "text": "Empty DataFrame\nColumns: [Emp ID, Name Prefix, First Name, Middle Initial, Last Name, Gender, E Mail, Father's Name, Mother's Name, Mother's Maiden Name, Salary]\nIndex: []\n"
        }
      ],
      "execution_count": 19
    },
    {
      "id": "ce1389d1-50be-4e19-946a-7353fb99aa38",
      "cell_type": "code",
      "source": "df=d['Salary']/999\nprint(d)",
      "metadata": {
        "trusted": true
      },
      "outputs": [
        {
          "name": "stdout",
          "output_type": "stream",
          "text": "    Emp ID Name Prefix First Name Middle Initial Last Name Gender  \\\n0   677509        Drs.       Lois              H    Walker      F   \n1   940761         Ms.     Brenda              S  Robinson      F   \n2   428945         Dr.        Joe              W  Robinson      M   \n3   408351        Drs.      Diane              I     Evans      F   \n4   193819         Mr.   Benjamin              R   Russell      M   \n..     ...         ...        ...            ...       ...    ...   \n95  639892         Mr.       Jose              K      Hill      M   \n96  704709         Dr.     Harold              Z    Nelson      M   \n97  461593         Ms.     Nicole              O      Ward      F   \n98  392491        Mrs.    Theresa              R    Murphy      F   \n99  495141        Drs.      Tammy              B     Young      F   \n\n                          E Mail     Father's Name       Mother's Name  \\\n0        lois.walker@hotmail.com     Donald Walker        Helen Walker   \n1      brenda.robinson@gmail.com  Raymond Robinson       Judy Robinson   \n2         joe.robinson@gmail.com    Scott Robinson  Stephanie Robinson   \n3          diane.evans@yahoo.com       Jason Evans      Michelle Evans   \n4   benjamin.russell@charter.net   Gregory Russell   Elizabeth Russell   \n..                           ...               ...                 ...   \n95         jose.hill@hotmail.com       Carlos Hill           Anna Hill   \n96       harold.nelson@gmail.com    Richard Nelson       Pamela Nelson   \n97         nicole.ward@yahoo.com        Ralph Ward          Julia Ward   \n98      theresa.murphy@gmail.com     George Murphy   Jacqueline Murphy   \n99       tammy.young@comcast.net      Andrew Young        Brenda Young   \n\n   Mother's Maiden Name  Salary  \n0                 Lewis  168251  \n1                 Perry   51063  \n2                Taylor   50155  \n3                 Allen  180294  \n4                Nelson  117642  \n..                  ...     ...  \n95                Hayes  129774  \n96                Smith  156194  \n97                  Lee   95673  \n98             Peterson   51015  \n99             Robinson   93650  \n\n[100 rows x 11 columns]\n"
        }
      ],
      "execution_count": 26
    },
    {
      "id": "f3bbfa64-c81b-4736-959c-45b599922708",
      "cell_type": "code",
      "source": "",
      "metadata": {
        "trusted": true
      },
      "outputs": [],
      "execution_count": null
    }
  ]
}