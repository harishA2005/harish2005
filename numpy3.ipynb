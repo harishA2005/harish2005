{
  "metadata": {
    "kernelspec": {
      "name": "python",
      "display_name": "Python (Pyodide)",
      "language": "python"
    },
    "language_info": {
      "codemirror_mode": {
        "name": "python",
        "version": 3
      },
      "file_extension": ".py",
      "mimetype": "text/x-python",
      "name": "python",
      "nbconvert_exporter": "python",
      "pygments_lexer": "ipython3",
      "version": "3.8"
    }
  },
  "nbformat_minor": 5,
  "nbformat": 4,
  "cells": [
    {
      "id": "f91c6313-f4b7-449a-a04f-6deeec40de68",
      "cell_type": "code",
      "source": "import numpy as np\narr=np.array([1,6,2,7,6,4])\nx=np.where(arr==6)\nprint(x)\n",
      "metadata": {
        "trusted": true
      },
      "outputs": [
        {
          "name": "stdout",
          "output_type": "stream",
          "text": "(array([1, 4]),)\n"
        }
      ],
      "execution_count": 3
    },
    {
      "id": "19a21cb8-c5ef-47f3-8b53-e477061e6c60",
      "cell_type": "code",
      "source": "import numpy as np\narr=np.array([1,6,2,7,6,4])\nx=np.where(arr==7)\nprint(x)",
      "metadata": {
        "trusted": true
      },
      "outputs": [
        {
          "name": "stdout",
          "output_type": "stream",
          "text": "(array([3]),)\n"
        }
      ],
      "execution_count": 5
    },
    {
      "id": "5dd9a4ac-787f-40e2-a300-a7481270d1b9",
      "cell_type": "code",
      "source": "import numpy as np\narr=np.array([0,1,2,2,7,8,9])\nx=np.searchsorted(arr,3,side='left')\nprint(x)",
      "metadata": {
        "trusted": true
      },
      "outputs": [
        {
          "name": "stdout",
          "output_type": "stream",
          "text": "4\n"
        }
      ],
      "execution_count": 7
    },
    {
      "id": "259b4391-31f3-46b3-ba63-086b13ba4f31",
      "cell_type": "code",
      "source": "import numpy as np\narr=np.array([0,1,2,2,7,8,9])\nx=np.searchsorted(arr,8,side='right')\nprint(x)",
      "metadata": {
        "trusted": true
      },
      "outputs": [
        {
          "name": "stdout",
          "output_type": "stream",
          "text": "6\n"
        }
      ],
      "execution_count": 9
    },
    {
      "id": "3803b08f-6350-457f-95b2-98b1fbf6af12",
      "cell_type": "code",
      "source": "import numpy as np\narr=np.array([9,5,2,7,6,4])\nprint(np.sort(arr))",
      "metadata": {
        "trusted": true
      },
      "outputs": [
        {
          "name": "stdout",
          "output_type": "stream",
          "text": "[2 4 5 6 7 9]\n"
        }
      ],
      "execution_count": 12
    },
    {
      "id": "acc44597-8d33-41eb-8c2b-b2b33f61146c",
      "cell_type": "code",
      "source": "a=np.array([[7,4,9],[9,1,4]])\nprint(np.sort(a))",
      "metadata": {
        "trusted": true
      },
      "outputs": [
        {
          "name": "stdout",
          "output_type": "stream",
          "text": "[[4 7 9]\n [1 4 9]]\n"
        }
      ],
      "execution_count": 13
    },
    {
      "id": "b442e324-19a5-4875-aa78-49a17b00273a",
      "cell_type": "code",
      "source": "import numpy as np\narr=np.array([32,78,69,88])\nx[False,True,False,True]\n ",
      "metadata": {
        "trusted": true
      },
      "outputs": [
        {
          "execution_count": 30,
          "output_type": "execute_result",
          "data": {
            "text/plain": "array([], dtype=int32)"
          },
          "metadata": {}
        }
      ],
      "execution_count": 30
    },
    {
      "id": "1cb252e1-c144-4ffb-bbba-c21e62956c7b",
      "cell_type": "code",
      "source": "import numpy as np\narr=np.array([32,78,69,88])\nfilter_arr=arr<70\nnewarr=arr[filter_arr]\nprint(filter_arr)\nprint(newarr)",
      "metadata": {
        "trusted": true
      },
      "outputs": [
        {
          "name": "stdout",
          "output_type": "stream",
          "text": "[ True False  True False]\n[32 69]\n"
        }
      ],
      "execution_count": 26
    },
    {
      "id": "0ff8314b-a6e9-43e2-a933-aec518677523",
      "cell_type": "code",
      "source": "",
      "metadata": {
        "trusted": true
      },
      "outputs": [],
      "execution_count": null
    },
    {
      "id": "96ed6c5a-3c28-4fd7-975c-614d79e20894",
      "cell_type": "code",
      "source": "",
      "metadata": {
        "trusted": true
      },
      "outputs": [],
      "execution_count": null
    }
  ]
}
