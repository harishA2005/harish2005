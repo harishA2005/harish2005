{
 "cells": [
  {
   "cell_type": "code",
   "execution_count": 9,
   "id": "e3cf55b0",
   "metadata": {},
   "outputs": [],
   "source": [
    "import pandas as pd\n",
    "df=pd.DataFrame([[1,2,3],[4,5,6],[7,8,9]],index=['one','two','three'],columns=['a','b','c'])\n",
    "print(df)\n"
   ]
  },
  {
   "cell_type": "code",
   "execution_count": 10,
   "id": "28fafd21",
   "metadata": {},
   "outputs": [],
   "source": [
    "df.to_excel(\"D:\\\\harish.xlsx\")\n",
    "df.to_excel(\"D:\\\\hari.xlsx\")"
   ]
  },
  {
   "cell_type": "code",
   "execution_count": 5,
   "id": "a11d9889",
   "metadata": {},
   "outputs": [],
   "source": [
    "df=pd.DataFrame([[10,20,30],[40,50,60],[70,80,90]],index=['four','five','six'],columns=['x','y','z'])\n",
    "df.to_excel(\"D:\\\\harish.xlsx\",sheet_name=\"Marks\")"
   ]
  },
  {
   "cell_type": "code",
   "execution_count": 6,
   "id": "f816cc99",
   "metadata": {},
   "outputs": [],
   "source": [
    "x=pd.read_excel(\"D:\\\\harish.xlsx\")\n",
    "y=pd.read_excel(\"D:\\\\hari.xlsx\")\n",
    "z=pd.concat([x,y])\n",
    "z.to_excel(\"D:\\\\harini.xlsx\")"
   ]
  },
  {
   "cell_type": "code",
   "execution_count": null,
   "id": "daeda991",
   "metadata": {},
   "outputs": [],
   "source": []
  },
  {
   "cell_type": "code",
   "execution_count": null,
   "id": "c732b77c",
   "metadata": {},
   "outputs": [],
   "source": []
  },
  {
   "cell_type": "code",
   "execution_count": null,
   "id": "72bbb489",
   "metadata": {},
   "outputs": [],
   "source": []
  }
 ],
 "metadata": {
  "kernelspec": {
   "display_name": "Python 3 (ipykernel)",
   "language": "python",
   "name": "python3"
  },
  "language_info": {
   "codemirror_mode": {
    "name": "ipython",
    "version": 3
   },
   "file_extension": ".py",
   "mimetype": "text/x-python",
   "name": "python",
   "nbconvert_exporter": "python",
   "pygments_lexer": "ipython3",
   "version": "3.11.3"
  }
 },
 "nbformat": 4,
 "nbformat_minor": 5
}
