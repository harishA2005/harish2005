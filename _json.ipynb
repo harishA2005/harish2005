{
 "cells": [
  {
   "cell_type": "code",
   "execution_count": 4,
   "id": "16e041a5",
   "metadata": {},
   "outputs": [],
   "source": [
    "f=open(\"D:/saitf.txt\",\"w\")\n",
    "f.write(\"Wakeup early\\n\")\n",
    "f.write(\"Read daily\\n\")\n",
    "f.write(\"pray to god\\n\")\n",
    "f.close()"
   ]
  },
  {
   "cell_type": "code",
   "execution_count": 5,
   "id": "c3f981a4",
   "metadata": {},
   "outputs": [
    {
     "name": "stdout",
     "output_type": "stream",
     "text": [
      "Wakeup early\n",
      "\n",
      "Read daily\n",
      "\n",
      "pray to god\n",
      "\n"
     ]
    }
   ],
   "source": [
    "a=open(\"D:/saitf.txt\",\"r\")\n",
    "print(a.readline())\n",
    "print(a.readline())\n",
    "print(a.readline())\n",
    "a.close()"
   ]
  },
  {
   "cell_type": "code",
   "execution_count": 8,
   "id": "62f248a0",
   "metadata": {},
   "outputs": [
    {
     "name": "stdout",
     "output_type": "stream",
     "text": [
      "Wakeup early\n",
      "Read daily\n",
      "pray to god\n",
      "Helpothers\n",
      "Be smart\n",
      "Help others\n",
      "Be smart\n",
      "Help others\n",
      "Be smart\n",
      "\n"
     ]
    }
   ],
   "source": [
    "b=open(\"D:/saitf.txt\",\"a\")\n",
    "b.write(\"Help others\\n\")\n",
    "b.write(\"Be smart\\n\")\n",
    "b.close()\n",
    "c=open(\"D:/saitf.txt\",\"r\")\n",
    "print(c.read())\n",
    "c.close()\n"
   ]
  },
  {
   "cell_type": "code",
   "execution_count": 10,
   "id": "138d619c",
   "metadata": {},
   "outputs": [
    {
     "name": "stdout",
     "output_type": "stream",
     "text": [
      "['Wakeup early\\n', 'Read daily\\n', 'pray to god\\n', 'Helpothers\\n', 'Be smart\\n', 'Help others\\n', 'Be smart\\n', 'Help others\\n', 'Be smart\\n']\n"
     ]
    }
   ],
   "source": [
    "with open(\"D:/saitf.txt\",\"r\")as file:\n",
    "    lines=file.readlines()\n",
    "    print(lines)"
   ]
  },
  {
   "cell_type": "code",
   "execution_count": 13,
   "id": "cce19ea5",
   "metadata": {},
   "outputs": [
    {
     "name": "stdout",
     "output_type": "stream",
     "text": [
      "london\n"
     ]
    }
   ],
   "source": [
    "import json\n",
    "x='{\"name\":\"sai\",\"age\":20,\"city\":\"london\"}'\n",
    "y=json.loads(x)\n",
    "print(y[\"city\"])"
   ]
  },
  {
   "cell_type": "code",
   "execution_count": 14,
   "id": "b881dcb6",
   "metadata": {},
   "outputs": [
    {
     "name": "stdout",
     "output_type": "stream",
     "text": [
      "\"{\\\"name\\\":\\\"sai\\\",\\\"age\\\":20,\\\"city\\\":\\\"london\\\"}\"\n"
     ]
    }
   ],
   "source": [
    "import json\n",
    "x='{\"name\":\"sai\",\"age\":20,\"city\":\"london\"}'\n",
    "y=json.dumps(x)\n",
    "print(y)"
   ]
  },
  {
   "cell_type": "code",
   "execution_count": null,
   "id": "5784371a",
   "metadata": {},
   "outputs": [],
   "source": []
  }
 ],
 "metadata": {
  "kernelspec": {
   "display_name": "Python 3 (ipykernel)",
   "language": "python",
   "name": "python3"
  },
  "language_info": {
   "codemirror_mode": {
    "name": "ipython",
    "version": 3
   },
   "file_extension": ".py",
   "mimetype": "text/x-python",
   "name": "python",
   "nbconvert_exporter": "python",
   "pygments_lexer": "ipython3",
   "version": "3.11.3"
  }
 },
 "nbformat": 4,
 "nbformat_minor": 5
}
