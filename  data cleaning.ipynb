{
 "cells": [
  {
   "cell_type": "code",
   "execution_count": 7,
   "id": "bafc8de5",
   "metadata": {},
   "outputs": [
    {
     "name": "stdout",
     "output_type": "stream",
     "text": [
      "        one       two     three\n",
      "a -0.147388 -0.442191 -0.522569\n",
      "b       NaN       NaN       NaN\n",
      "c  1.040298  0.321316  0.109911\n",
      "d  0.076141  0.169907  0.913970\n",
      "e       NaN       NaN       NaN\n",
      "f  0.138796 -0.609775  1.091521\n"
     ]
    }
   ],
   "source": [
    "import pandas as pd\n",
    "import numpy as np\n",
    "df=pd.DataFrame((np.random.randn(4,3)),index=['a','c','d','f'],columns=['one','two','three'])\n",
    "df=df.reindex(['a','b','c','d','e','f'])\n",
    "print(df)"
   ]
  },
  {
   "cell_type": "code",
   "execution_count": 8,
   "id": "42201334",
   "metadata": {},
   "outputs": [
    {
     "name": "stdout",
     "output_type": "stream",
     "text": [
      "        one       two     three\n",
      "a -0.147388 -0.442191 -0.522569\n",
      "c  1.040298  0.321316  0.109911\n",
      "d  0.076141  0.169907  0.913970\n",
      "f  0.138796 -0.609775  1.091521\n",
      "\n"
     ]
    }
   ],
   "source": [
    "print(df.dropna())\n",
    "print()"
   ]
  },
  {
   "cell_type": "code",
   "execution_count": 9,
   "id": "c39991b3",
   "metadata": {},
   "outputs": [
    {
     "name": "stdout",
     "output_type": "stream",
     "text": [
      "        one       two     three\n",
      "a -2.131127 -0.651590  0.660357\n",
      "b       NaN       NaN       NaN\n",
      "c -1.758523  0.535340  0.884136\n",
      "d -0.148974 -0.329198  0.374767\n",
      "e       NaN       NaN       NaN\n",
      "f  0.178263  1.104735  0.442477\n",
      "        one       two     three\n",
      "a -2.131127 -0.651590  0.660357\n",
      "b  0.000000  0.000000  0.000000\n",
      "c -1.758523  0.535340  0.884136\n",
      "d -0.148974 -0.329198  0.374767\n",
      "e  0.000000  0.000000  0.000000\n",
      "f  0.178263  1.104735  0.442477\n"
     ]
    }
   ],
   "source": [
    "import pandas as pd\n",
    "import numpy as np\n",
    "df=pd.DataFrame((np.random.randn(4,3)),index=['a','c','d','f'],columns=['one','two','three'])\n",
    "df=df.reindex(['a','b','c','d','e','f'])\n",
    "print(df)\n",
    "print(df.fillna(0))"
   ]
  },
  {
   "cell_type": "code",
   "execution_count": 11,
   "id": "55447c44",
   "metadata": {},
   "outputs": [
    {
     "name": "stdout",
     "output_type": "stream",
     "text": [
      "   one  two\n",
      "0   10   60\n",
      "1   20   70\n",
      "2   30   80\n",
      "3   40    0\n",
      "4   50   10\n",
      "   one  two\n",
      "0    5   60\n",
      "1   20   70\n",
      "2   30    3\n",
      "3   40    0\n",
      "4   50    5\n",
      "\n"
     ]
    }
   ],
   "source": [
    "df=pd.DataFrame({'one':[10,20,30,40,50],'two':[60,70,80,0,10]})\n",
    "print(df)\n",
    "print(df.replace({10:5,80:3}))\n",
    "print()"
   ]
  },
  {
   "cell_type": "code",
   "execution_count": 12,
   "id": "fe4025df",
   "metadata": {},
   "outputs": [
    {
     "name": "stdout",
     "output_type": "stream",
     "text": [
      "Original dataframe:\n",
      "         one       two     three\n",
      "a  0.389101  0.328204 -0.435967\n",
      "b       NaN       NaN       NaN\n",
      "c -1.029600  0.455115 -1.452261\n",
      "d -0.243294  0.371404 -1.042747\n",
      "e       NaN       NaN       NaN\n",
      "f  1.482092  0.702497 -0.619306\n",
      "\n",
      " Non-with true fill:\n",
      "\n",
      "<bound method Series.isnull of a    0.389101\n",
      "b         NaN\n",
      "c   -1.029600\n",
      "d   -0.243294\n",
      "e         NaN\n",
      "f    1.482092\n",
      "Name: one, dtype: float64>\n"
     ]
    }
   ],
   "source": [
    "df=pd.DataFrame(np.random.randn(4,3),index=['a','c','d','f'],columns=['one','two','three'])\n",
    "df=df.reindex(['a','b','c','d','e','f'])\n",
    "print(\"Original dataframe:\\n\",df)\n",
    "print(\"\\n Non-with true fill:\\n\")\n",
    "print(df['one'].isnull)"
   ]
  },
  {
   "cell_type": "code",
   "execution_count": 14,
   "id": "a1218f15",
   "metadata": {},
   "outputs": [
    {
     "name": "stdout",
     "output_type": "stream",
     "text": [
      "Original dataframe:\n",
      "         one       two     three\n",
      "a  2.643686  0.621687  1.675517\n",
      "b       NaN       NaN       NaN\n",
      "c  1.094699  0.015523  0.027718\n",
      "d -0.356264 -0.134838 -1.174319\n",
      "e       NaN       NaN       NaN\n",
      "f -2.269805 -0.753729 -1.519307\n",
      "\n",
      " Non-filled with back ground values:\n",
      "\n",
      "        one       two     three\n",
      "a  2.643686  0.621687  1.675517\n",
      "b  1.094699  0.015523  0.027718\n",
      "c  1.094699  0.015523  0.027718\n",
      "d -0.356264 -0.134838 -1.174319\n",
      "e -2.269805 -0.753729 -1.519307\n",
      "f -2.269805 -0.753729 -1.519307\n"
     ]
    }
   ],
   "source": [
    "df=pd.DataFrame(np.random.randn(4,3),index=['a','c','d','f'],columns=['one','two','three'])\n",
    "df=df.reindex(['a','b','c','d','e','f'])\n",
    "print(\"Original dataframe:\\n\",df)\n",
    "print(\"\\n Non-filled with back ground values:\\n\")\n",
    "print(df.fillna(method=\"bfill\"))"
   ]
  },
  {
   "cell_type": "code",
   "execution_count": null,
   "id": "3d0d5aa5",
   "metadata": {},
   "outputs": [],
   "source": []
  },
  {
   "cell_type": "code",
   "execution_count": null,
   "id": "5b4281a1",
   "metadata": {},
   "outputs": [],
   "source": []
  },
  {
   "cell_type": "code",
   "execution_count": null,
   "id": "1aa19608",
   "metadata": {},
   "outputs": [],
   "source": []
  }
 ],
 "metadata": {
  "kernelspec": {
   "display_name": "Python 3 (ipykernel)",
   "language": "python",
   "name": "python3"
  },
  "language_info": {
   "codemirror_mode": {
    "name": "ipython",
    "version": 3
   },
   "file_extension": ".py",
   "mimetype": "text/x-python",
   "name": "python",
   "nbconvert_exporter": "python",
   "pygments_lexer": "ipython3",
   "version": "3.11.4"
  }
 },
 "nbformat": 4,
 "nbformat_minor": 5
}
