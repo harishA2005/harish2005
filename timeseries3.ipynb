{
 "cells": [
  {
   "cell_type": "code",
   "execution_count": 11,
   "id": "c8469ac5-152e-4cdf-b77f-f19af92b2f59",
   "metadata": {},
   "outputs": [
    {
     "name": "stdout",
     "output_type": "stream",
     "text": [
      "Date Index\n",
      " 2011-01-02    0.725546\n",
      "2011-01-05    0.353132\n",
      "2011-01-07   -2.165002\n",
      "2011-01-08    0.475320\n",
      "2011-01-10    0.626754\n",
      "2011-01-12   -0.456024\n",
      "dtype: float64\n"
     ]
    }
   ],
   "source": [
    "import pandas as pd\n",
    "import numpy as np\n",
    "from datetime import datetime\n",
    "\n",
    "dates = [datetime(2011, 1, 2),\n",
    "         datetime(2011, 1, 5),\n",
    "         datetime(2011, 1, 7),\n",
    "         datetime(2011, 1, 8),\n",
    "         datetime(2011, 1, 10),\n",
    "         datetime(2011, 1, 12)]\n",
    "ts = pd.Series(np.random.randn(6), index=dates)\n",
    "print(\"Date Index\\n\",ts)"
   ]
  },
  {
   "cell_type": "code",
   "execution_count": 13,
   "id": "b555c622-8c78-44bd-acf6-6cb5d676bbba",
   "metadata": {},
   "outputs": [
    {
     "name": "stdout",
     "output_type": "stream",
     "text": [
      "\n",
      "Date Index alone from the series: \n",
      " DatetimeIndex(['2011-01-02', '2011-01-05', '2011-01-07', '2011-01-08',\n",
      "               '2011-01-10', '2011-01-12'],\n",
      "              dtype='datetime64[ns]', freq=None)\n"
     ]
    }
   ],
   "source": [
    "print(\"\\nDate Index alone from the series: \\n\", ts.index)"
   ]
  },
  {
   "cell_type": "code",
   "execution_count": 19,
   "id": "f1b82887-2c19-411c-beae-74d3f9d5b586",
   "metadata": {},
   "outputs": [
    {
     "name": "stdout",
     "output_type": "stream",
     "text": [
      "Second index:\n",
      " 2011-01-07 00:00:00\n"
     ]
    }
   ],
   "source": [
    "stamp = ts.index[2]\n",
    "print(\"Second index:\\n\", stamp)"
   ]
  },
  {
   "cell_type": "code",
   "execution_count": 37,
   "id": "155c3e78-9345-46e9-bbe9-6037a4724306",
   "metadata": {},
   "outputs": [
    {
     "name": "stdout",
     "output_type": "stream",
     "text": [
      "Daterange up to 1000 days:\n",
      " 2000-01-01    0.730180\n",
      "2000-01-02   -0.982007\n",
      "2000-01-03    1.154719\n",
      "2000-01-04    1.434070\n",
      "2000-01-05    0.935927\n",
      "                ...   \n",
      "2002-09-22    1.481935\n",
      "2002-09-23   -0.953361\n",
      "2002-09-24    0.025972\n",
      "2002-09-25    1.452745\n",
      "2002-09-26   -0.083951\n",
      "Freq: D, Length: 1000, dtype: float64\n"
     ]
    }
   ],
   "source": [
    "longer_ts = pd.Series(np.random.randn(1000),\n",
    "                      index=pd.date_range(\"2000-01-01\", periods=1000))\n",
    "print(\"Daterange up to 1000 days:\\n\", longer_ts)"
   ]
  },
  {
   "cell_type": "code",
   "execution_count": 33,
   "id": "7e82dd9a-5586-4c1a-8477-9ce877d81b44",
   "metadata": {},
   "outputs": [
    {
     "name": "stdout",
     "output_type": "stream",
     "text": [
      "Date range-2001 year:\n",
      " 2001-01-01    0.934652\n",
      "2001-01-02   -1.832830\n",
      "2001-01-03   -1.498950\n",
      "2001-01-04    2.243816\n",
      "2001-01-05    1.501438\n",
      "                ...   \n",
      "2001-12-27   -0.391138\n",
      "2001-12-28   -0.769200\n",
      "2001-12-29    0.031056\n",
      "2001-12-30   -0.909144\n",
      "2001-12-31    0.768842\n",
      "Freq: D, Length: 365, dtype: float64\n"
     ]
    }
   ],
   "source": [
    "print(\"Date range-2001 year:\\n\", longer_ts[\"2001\"])"
   ]
  },
  {
   "cell_type": "code",
   "execution_count": 35,
   "id": "e2924471-14e0-4520-8ed1-e793f404f725",
   "metadata": {},
   "outputs": [
    {
     "name": "stdout",
     "output_type": "stream",
     "text": [
      "Date range-05 month 2001 year:\n",
      " 2001-05-01   -0.863879\n",
      "2001-05-02   -0.290788\n",
      "2001-05-03    1.491058\n",
      "2001-05-04   -0.029414\n",
      "2001-05-05    1.643241\n",
      "2001-05-06    1.256996\n",
      "2001-05-07   -0.066264\n",
      "2001-05-08   -0.924816\n",
      "2001-05-09   -1.470116\n",
      "2001-05-10   -0.236567\n",
      "2001-05-11   -0.997112\n",
      "2001-05-12    0.191841\n",
      "2001-05-13   -0.584402\n",
      "2001-05-14   -0.936163\n",
      "2001-05-15    0.725454\n",
      "2001-05-16    0.417107\n",
      "2001-05-17    0.155361\n",
      "2001-05-18   -0.183194\n",
      "2001-05-19    2.683345\n",
      "2001-05-20   -0.668096\n",
      "2001-05-21   -0.379192\n",
      "2001-05-22   -1.267038\n",
      "2001-05-23    0.529543\n",
      "2001-05-24    0.300035\n",
      "2001-05-25   -1.256758\n",
      "2001-05-26    0.111423\n",
      "2001-05-27    0.898907\n",
      "2001-05-28    0.479359\n",
      "2001-05-29    0.160806\n",
      "2001-05-30    0.747379\n",
      "2001-05-31   -1.361556\n",
      "Freq: D, dtype: float64\n"
     ]
    }
   ],
   "source": [
    "print(\"Date range-05 month 2001 year:\\n\", longer_ts[\"2001-05\"])"
   ]
  },
  {
   "cell_type": "code",
   "execution_count": 31,
   "id": "d76b4474-ee91-4c41-b8bf-55fe3cb58182",
   "metadata": {},
   "outputs": [
    {
     "name": "stdout",
     "output_type": "stream",
     "text": [
      "Date range-first few dates in 2000 year:\n",
      " 2000-01-01   -0.027559\n",
      "2000-01-02    2.429662\n",
      "2000-01-03    2.117877\n",
      "2000-01-04    0.626933\n",
      "2000-01-05   -0.988531\n",
      "Freq: D, dtype: float64\n"
     ]
    }
   ],
   "source": [
    "print(\"Date range-first few dates in 2000 year:\\n\", longer_ts[\"2000\"].head())"
   ]
  },
  {
   "cell_type": "code",
   "execution_count": 47,
   "id": "023c8c27-be12-4066-941c-a86c9644fd9e",
   "metadata": {},
   "outputs": [
    {
     "name": "stdout",
     "output_type": "stream",
     "text": [
      "Date range-first 15 dates in 02 month 2000 year:\n",
      " 2000-02-01   -1.102664\n",
      "2000-02-02    0.704930\n",
      "2000-02-03   -0.755034\n",
      "2000-02-04    1.096137\n",
      "2000-02-05   -1.460680\n",
      "2000-02-06    1.536784\n",
      "2000-02-07   -0.006480\n",
      "2000-02-08    0.620345\n",
      "2000-02-09   -1.484656\n",
      "2000-02-10    0.035514\n",
      "2000-02-11    0.122427\n",
      "2000-02-12    1.065172\n",
      "2000-02-13   -1.012188\n",
      "2000-02-14    1.204390\n",
      "2000-02-15   -0.001000\n",
      "Freq: D, dtype: float64\n"
     ]
    }
   ],
   "source": [
    "print(\"Date range-first 15 dates in 02 month 2000 year:\\n\", longer_ts[\"2000-02\"].head(15))"
   ]
  },
  {
   "cell_type": "code",
   "execution_count": 49,
   "id": "96b25d51-db94-4482-bcab-cb496233994c",
   "metadata": {},
   "outputs": [
    {
     "name": "stdout",
     "output_type": "stream",
     "text": [
      "Date range-from 26-9-2000:\n",
      " 2000-09-26   -0.280361\n",
      "2000-09-27    0.918246\n",
      "2000-09-28    1.186531\n",
      "2000-09-29    1.090692\n",
      "2000-09-30    0.297950\n",
      "                ...   \n",
      "2002-09-22    1.481935\n",
      "2002-09-23   -0.953361\n",
      "2002-09-24    0.025972\n",
      "2002-09-25    1.452745\n",
      "2002-09-26   -0.083951\n",
      "Freq: D, Length: 731, dtype: float64\n"
     ]
    }
   ],
   "source": [
    "print(\"Date range-from 26-9-2000:\\n\", longer_ts[datetime(2000, 9, 26):])"
   ]
  },
  {
   "cell_type": "code",
   "execution_count": 45,
   "id": "b7021fce-4f1b-4ff4-8ffd-10f43be257af",
   "metadata": {},
   "outputs": [
    {
     "name": "stdout",
     "output_type": "stream",
     "text": [
      "Date range from 26-9-2001 to 25-9-2002:\n",
      " 2001-09-26    0.247181\n",
      "2001-09-27   -1.121850\n",
      "2001-09-28   -0.652146\n",
      "2001-09-29    0.659388\n",
      "2001-09-30    0.323021\n",
      "                ...   \n",
      "2002-09-21   -0.481961\n",
      "2002-09-22    1.481935\n",
      "2002-09-23   -0.953361\n",
      "2002-09-24    0.025972\n",
      "2002-09-25    1.452745\n",
      "Freq: D, Length: 365, dtype: float64\n"
     ]
    }
   ],
   "source": [
    "print(\"Date range from 26-9-2001 to 25-9-2002:\\n\", longer_ts[datetime(2001, 9, 26):datetime(2002, 9, 25)])"
   ]
  },
  {
   "cell_type": "code",
   "execution_count": null,
   "id": "662b0199-24e1-43b0-9b27-9a6bed4b177e",
   "metadata": {},
   "outputs": [],
   "source": []
  }
 ],
 "metadata": {
  "kernelspec": {
   "display_name": "Python [conda env:base] *",
   "language": "python",
   "name": "conda-base-py"
  },
  "language_info": {
   "codemirror_mode": {
    "name": "ipython",
    "version": 3
   },
   "file_extension": ".py",
   "mimetype": "text/x-python",
   "name": "python",
   "nbconvert_exporter": "python",
   "pygments_lexer": "ipython3",
   "version": "3.12.7"
  }
 },
 "nbformat": 4,
 "nbformat_minor": 5
}
