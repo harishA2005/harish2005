{
 "cells": [
  {
   "cell_type": "code",
   "execution_count": 4,
   "id": "bd6b88e9",
   "metadata": {},
   "outputs": [
    {
     "name": "stdout",
     "output_type": "stream",
     "text": [
      "   X  Y  Z\n",
      "0  2  4  6\n",
      "1  1  3  5\n",
      "2  5  8  7\n",
      "     X  Y  Z\n",
      "min  1  3  5\n",
      "max  5  8  7\n",
      "     0   1\n",
      "0  sai  88\n",
      "1  poo  70\n"
     ]
    }
   ],
   "source": [
    "import pandas as pd\n",
    "import numpy as np\n",
    "info=pd.DataFrame([[2,4,6],[1,3,5],[5,8,7]],columns=['X','Y','Z'])\n",
    "print(info)\n",
    "print(info.agg(['min','max']))\n",
    "d2=pd.DataFrame([['sai',88],['poo',70]])\n",
    "column=['EMP','ID']\n",
    "print(d2)\n"
   ]
  },
  {
   "cell_type": "code",
   "execution_count": 10,
   "id": "6211e0f8",
   "metadata": {},
   "outputs": [
    {
     "name": "stdout",
     "output_type": "stream",
     "text": [
      "   X  Y  Z\n",
      "0  2  4  6\n",
      "1  1  3  5\n",
      "2  5  8  7\n",
      "     X  Y  Z\n",
      "min  1  3  5\n",
      "max  5  8  7\n",
      "   EMP  ID\n",
      "0  sai  88\n",
      "1  poo  70\n",
      "   EMP  ID  Age\n",
      "0  sai  88   20\n",
      "1  poo  70   18\n"
     ]
    }
   ],
   "source": [
    "import pandas as pd\n",
    "import numpy as np\n",
    "info=pd.DataFrame([[2,4,6],[1,3,5],[5,8,7]],columns=['X','Y','Z'])\n",
    "print(info)\n",
    "print(info.agg(['min','max']))\n",
    "d2=pd.DataFrame([['sai',88],['poo',70]],columns=['EMP','ID'])\n",
    "print(d2)\n",
    "d2['Age']=[20,18]\n",
    "print(d2)"
   ]
  },
  {
   "cell_type": "code",
   "execution_count": 13,
   "id": "be999bdf",
   "metadata": {},
   "outputs": [
    {
     "name": "stdout",
     "output_type": "stream",
     "text": [
      "   X  Y  Z\n",
      "0  2  4  6\n",
      "1  1  3  5\n",
      "2  5  8  7\n",
      "     X  Y  Z\n",
      "min  1  3  5\n",
      "max  5  8  7\n",
      " \n",
      "   EMP  ID\n",
      "0  sai  88\n",
      "1  poo  70\n",
      " \n",
      "   EMP  ID  Age\n",
      "0  sai  88   20\n",
      "1  poo  70   18\n",
      " \n",
      "   EMP  ID  Age   Sex\n",
      "0  sai  88   20  Male\n",
      "1  poo  70   18  Male\n"
     ]
    }
   ],
   "source": [
    "import pandas as pd\n",
    "import numpy as np\n",
    "info=pd.DataFrame([[2,4,6],[1,3,5],[5,8,7]],columns=['X','Y','Z'])\n",
    "print(info)\n",
    "print(info.agg(['min','max']))\n",
    "d2=pd.DataFrame([['sai',88],['poo',70]],columns=['EMP','ID'])\n",
    "print(\" \")\n",
    "print(d2)\n",
    "d2['Age']=[20,18]\n",
    "print(\" \")\n",
    "print(d2)\n",
    "d=d2.assign(Sex=['Male','Male'])\n",
    "print(\" \")\n",
    "print(d)"
   ]
  },
  {
   "cell_type": "code",
   "execution_count": 17,
   "id": "08d411b3",
   "metadata": {},
   "outputs": [
    {
     "name": "stdout",
     "output_type": "stream",
     "text": [
      "       col3      col4\n",
      "3 -0.179027  0.385880\n",
      "2 -0.041545 -0.875879\n",
      "0  0.259552 -0.971461\n",
      "4 -0.786138 -0.654678\n",
      "1 -0.445443  0.603115\n"
     ]
    }
   ],
   "source": [
    "import numpy as np\n",
    "import pandas as pd\n",
    "info=pd.DataFrame(np.random.randn(5,2),index=[3,2,0,4,1],columns=['col3','col4'])\n",
    "print(info)"
   ]
  },
  {
   "cell_type": "code",
   "execution_count": 19,
   "id": "fc4c496f",
   "metadata": {},
   "outputs": [
    {
     "name": "stdout",
     "output_type": "stream",
     "text": [
      "       col3      col4\n",
      "1 -0.305512  0.327760\n",
      "3 -0.124892  0.877228\n",
      "0  0.626376  0.401257\n",
      "4  1.095041  0.172045\n",
      "2  1.545211 -1.465063\n"
     ]
    }
   ],
   "source": [
    "import numpy as np\n",
    "import pandas as pd\n",
    "info=pd.DataFrame(np.random.randn(5,2),index=[3,2,0,4,1],columns=['col3','col4'])\n",
    "info2=info.sort_index()\n",
    "info3=info.sort_values(by='col3')\n",
    "print(info3)"
   ]
  },
  {
   "cell_type": "code",
   "execution_count": 24,
   "id": "9c70a36e",
   "metadata": {},
   "outputs": [
    {
     "name": "stdout",
     "output_type": "stream",
     "text": [
      "   id  Name  AGE  SALARY\n",
      "0   1   sai   29     200\n",
      "1   2  bala   20     300\n",
      "2   3   kar   34     400\n"
     ]
    }
   ],
   "source": [
    "import pandas as pd\n",
    "import numpy as np\n",
    "left=pd.DataFrame({'id':[1,2,3],'Name':['sai','bala','kar']})\n",
    "right=pd.DataFrame({'id':[1,2,3],'AGE':[29,20,34],'SALARY':[200,300,400]})\n",
    "print(pd.merge(left,right,on='id'))\n"
   ]
  }
 ],
 "metadata": {
  "kernelspec": {
   "display_name": "Python 3 (ipykernel)",
   "language": "python",
   "name": "python3"
  },
  "language_info": {
   "codemirror_mode": {
    "name": "ipython",
    "version": 3
   },
   "file_extension": ".py",
   "mimetype": "text/x-python",
   "name": "python",
   "nbconvert_exporter": "python",
   "pygments_lexer": "ipython3",
   "version": "3.11.5"
  }
 },
 "nbformat": 4,
 "nbformat_minor": 5
}
