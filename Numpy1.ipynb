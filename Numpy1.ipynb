{
  "metadata": {
    "kernelspec": {
      "name": "python",
      "display_name": "Python (Pyodide)",
      "language": "python"
    },
    "language_info": {
      "codemirror_mode": {
        "name": "python",
        "version": 3
      },
      "file_extension": ".py",
      "mimetype": "text/x-python",
      "name": "python",
      "nbconvert_exporter": "python",
      "pygments_lexer": "ipython3",
      "version": "3.8"
    }
  },
  "nbformat_minor": 5,
  "nbformat": 4,
  "cells": [
    {
      "id": "50fbad04-db94-43f4-a504-77c304892f75",
      "cell_type": "code",
      "source": "import numpy as np\na=np.array([10,20,30,40,50])\nprint(\"One dimensional array:\",a)",
      "metadata": {
        "trusted": true
      },
      "outputs": [
        {
          "name": "stdout",
          "output_type": "stream",
          "text": "One dimensional array: [10 20 30 40 50]\n"
        }
      ],
      "execution_count": 1
    },
    {
      "id": "989bfa93-c341-4957-90a8-d81cc9b49cb7",
      "cell_type": "code",
      "source": "import numpy as np\na=np.array([[10,20,30,40,50],[60,70,80,90,100]])\nprint(\"Two dimensional array:\",a)",
      "metadata": {
        "trusted": true
      },
      "outputs": [
        {
          "name": "stdout",
          "output_type": "stream",
          "text": "Two dimensional array: [[ 10  20  30  40  50]\n [ 60  70  80  90 100]]\n"
        }
      ],
      "execution_count": 2
    },
    {
      "id": "314f11e6-7b95-4853-a72d-b404bd6ddd22",
      "cell_type": "code",
      "source": "import numpy as np\na=np.zeros((3,5))\nprint(\"\\n Array with all zeros:\\n\",a)",
      "metadata": {
        "trusted": true
      },
      "outputs": [
        {
          "name": "stdout",
          "output_type": "stream",
          "text": "\n Array with all zeros:\n [[0. 0. 0. 0. 0.]\n [0. 0. 0. 0. 0.]\n [0. 0. 0. 0. 0.]]\n"
        }
      ],
      "execution_count": 3
    },
    {
      "id": "0670e46d-d42d-46f7-9642-be4009c03915",
      "cell_type": "code",
      "source": "import numpy as np\nd=np.random.random((3,3))\nprint(\"\\n Random value:\",d)",
      "metadata": {
        "trusted": true
      },
      "outputs": [
        {
          "name": "stdout",
          "output_type": "stream",
          "text": "\n [[0.17691653 0.3919634  0.06870325]\n [0.30401085 0.49154608 0.95058846]\n [0.60434898 0.30325038 0.76835335]]\n"
        }
      ],
      "execution_count": 4
    },
    {
      "id": "eeab0fe6-244d-43ca-a050-eeab8d4408dd",
      "cell_type": "code",
      "source": "import numpy as np\ne=np.arange(0,10,1)\nprint(\"\\n Range value :\\n\",e)",
      "metadata": {
        "trusted": true
      },
      "outputs": [
        {
          "name": "stdout",
          "output_type": "stream",
          "text": "\n Range value :\n [0 1 2 3 4 5 6 7 8 9]\n"
        }
      ],
      "execution_count": 5
    },
    {
      "id": "ec12cee0-0427-4809-9949-feb0ff5d370d",
      "cell_type": "code",
      "source": "import numpy as np\narr=np.array([[1,2,3,4],[5,2,4,2],[1,2,0,1]])\nnewarr=arr.reshape((4,3))\nprint(\"\\n Original array:\",arr)\nprint(\"\\n Reshaped array:\",newarr)\nnewtype=arr.astype('f')\nprint(\"converted array element:\\n\",newtype)\nprint(\"converted array:\" ,newtype.dtype)\nsize=len(arr)\nprint(\"\\n size of array:\\n\",size)",
      "metadata": {
        "trusted": true
      },
      "outputs": [
        {
          "name": "stdout",
          "output_type": "stream",
          "text": "\n [[1 2 3 4]rray:\n [5 2 4 2]\n [1 2 0 1]]\n\n [[1 2 3] array:\n [4 5 2]\n [4 2 1]\n [2 0 1]]\nconverted array element:\n [[1. 2. 3. 4.]\n [5. 2. 4. 2.]\n [1. 2. 0. 1.]]\nconverted array: float32\n\n size of array:\n 3\n"
        }
      ],
      "execution_count": 6
    },
    {
      "id": "68f9e182-8311-407a-9a51-4f5233078065",
      "cell_type": "code",
      "source": "import numpy as np\na=np.zeros((5,3))\nprint(\"\\n Array with 5x3 with all zeros:\\n\",a)",
      "metadata": {
        "trusted": true
      },
      "outputs": [
        {
          "name": "stdout",
          "output_type": "stream",
          "text": "\n Array with 5x3 with all zeros:\n [[0. 0. 0.]\n [0. 0. 0.]\n [0. 0. 0.]\n [0. 0. 0.]\n [0. 0. 0.]]\n"
        }
      ],
      "execution_count": 7
    },
    {
      "id": "8213b64a-6ec8-468b-aca1-c5506a4f043d",
      "cell_type": "code",
      "source": "import numpy as np\na=np.random.random((5,3))\nprint(\"\\n Array with 5x3 with all Random Numbers:\\n\",a)",
      "metadata": {
        "trusted": true
      },
      "outputs": [
        {
          "name": "stdout",
          "output_type": "stream",
          "text": "\n Array with 5x3 with all Random Numbers:\n [[0.59431025 0.91479572 0.0786085 ]\n [0.31119936 0.85728049 0.64630979]\n [0.89653694 0.77858854 0.62851361]\n [0.80930244 0.04511761 0.28197896]\n [0.28639755 0.04254405 0.67254327]]\n"
        }
      ],
      "execution_count": 8
    },
    {
      "id": "a3b6b8cf-2079-498e-82cb-39eb26f3b0f3",
      "cell_type": "code",
      "source": "import numpy as np\narr=np.array([[0.56347699, 0.00142372, 0.34454864],\n[0.45750291,0.77197486, 0.72972187],\n[0.41213894, 0.61247472, 0.24462655],\n[0.97781793, 0.35785797, 0.99369307],\n[0.8228994,  0.77176082, 0.41449275]])\nnewarr=arr.reshape((3,5))\nprint(\"\\n Original array:\",arr)\nprint(\"\\n Reshaped array:\",newarr)",
      "metadata": {
        "trusted": true
      },
      "outputs": [
        {
          "name": "stdout",
          "output_type": "stream",
          "text": "\n [[0.56347699 0.00142372 0.34454864]\n [0.45750291 0.77197486 0.72972187]\n [0.41213894 0.61247472 0.24462655]\n [0.97781793 0.35785797 0.99369307]\n [0.8228994  0.77176082 0.41449275]]\n\n [[0.56347699 0.00142372 0.34454864 0.45750291 0.77197486]\n [0.72972187 0.41213894 0.61247472 0.24462655 0.97781793]\n [0.35785797 0.99369307 0.8228994  0.77176082 0.41449275]]\n"
        }
      ],
      "execution_count": 9
    },
    {
      "id": "5e074052-15f8-45f2-b456-ca9ca28ee543",
      "cell_type": "code",
      "source": "import numpy as np\narr=np.array([[1,2,3,4],[5,2,4,2],[1,2,0,1]])\nnewarr=arr.reshape((4,3))\nprint(\"\\n Original array:\",arr)\nprint(\"\\n Reshaped array:\",newarr)\nprint(\"\\n No. of diminsions: \",arr.ndim)",
      "metadata": {
        "trusted": true
      },
      "outputs": [
        {
          "name": "stdout",
          "output_type": "stream",
          "text": "\n [[1 2 3 4]rray:\n [5 2 4 2]\n [1 2 0 1]]\n\n [[1 2 3] array:\n [4 5 2]\n [4 2 1]\n [2 0 1]]\n\n 2o. of diminsions: \n"
        }
      ],
      "execution_count": 10
    },
    {
      "id": "13fd7787-a7bb-48e1-b2c4-ead2f37789df",
      "cell_type": "code",
      "source": "flat=arr.flatten()\nprint(\"Flattened Array: \\n\",flat)",
      "metadata": {
        "trusted": true
      },
      "outputs": [
        {
          "name": "stdout",
          "output_type": "stream",
          "text": "Flattened Array: \n [1 2 3 4 5 2 4 2 1 2 0 1]\n"
        }
      ],
      "execution_count": 11
    },
    {
      "id": "cc3d4bec-5e3d-4281-9ee0-09ead9f5127c",
      "cell_type": "code",
      "source": "print(\"\\n Shape of array :\",arr.shape)",
      "metadata": {
        "trusted": true
      },
      "outputs": [
        {
          "name": "stdout",
          "output_type": "stream",
          "text": "\n (3, 4)of array :\n"
        }
      ],
      "execution_count": 12
    },
    {
      "id": "a6ba50d0-14d2-4847-bf65-ddf8da4ea32b",
      "cell_type": "code",
      "source": "print(\"\\n array element type:\",arr.dtype)",
      "metadata": {
        "trusted": true
      },
      "outputs": [
        {
          "name": "stdout",
          "output_type": "stream",
          "text": "\n int32 element type:\n"
        }
      ],
      "execution_count": 13
    },
    {
      "id": "967a118d-3c75-454e-b892-a162769f56a8",
      "cell_type": "code",
      "source": "newtype=arr. astype('f')\nprint(\"\\n count array element:\\n\",newtype)\nprint(\"converted array:\",newtype.dtype)",
      "metadata": {
        "trusted": true
      },
      "outputs": [
        {
          "name": "stdout",
          "output_type": "stream",
          "text": "\n count array element:\n [[1. 2. 3. 4.]\n [5. 2. 4. 2.]\n [1. 2. 0. 1.]]\nconverted array: float32\n"
        }
      ],
      "execution_count": 16
    },
    {
      "id": "5e810987-1df2-4969-875b-a489cb61620b",
      "cell_type": "code",
      "source": "size=len(arr)\nprint(\"\\n size of array\\n\",size)",
      "metadata": {
        "trusted": true
      },
      "outputs": [
        {
          "name": "stdout",
          "output_type": "stream",
          "text": "\n size of array\n 3\n"
        }
      ],
      "execution_count": 17
    },
    {
      "id": "55f57791-46b2-4ccb-acbe-e337a31753d4",
      "cell_type": "code",
      "source": "",
      "metadata": {
        "trusted": true
      },
      "outputs": [],
      "execution_count": null
    }
  ]
}
