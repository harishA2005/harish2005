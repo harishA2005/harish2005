{
 "cells": [
  {
   "cell_type": "code",
   "execution_count": 7,
   "id": "122fbab5",
   "metadata": {
    "scrolled": false
   },
   "outputs": [
    {
     "name": "stdout",
     "output_type": "stream",
     "text": [
      "  name  age\n",
      "0  sai   20\n",
      "1  sub   21\n",
      "2  poo   22\n"
     ]
    }
   ],
   "source": [
    "import pandas as pd\n",
    "d1={\"name\":[\"sai\",\"sub\",\"poo\"],\"age\":[20,21,22]}\n",
    "d2={\"qualified\":[True,True,False]}\n",
    "df1=pd.DataFrame(d1)\n",
    "print(df1)"
   ]
  },
  {
   "cell_type": "code",
   "execution_count": 9,
   "id": "cccfdb13",
   "metadata": {},
   "outputs": [
    {
     "name": "stdout",
     "output_type": "stream",
     "text": [
      "  name  age\n",
      "0  sai   20\n",
      "1  sub   21\n",
      "2  poo   22\n",
      "   qualified\n",
      "0       True\n",
      "1       True\n",
      "2      False\n",
      "  name  age  qualified\n",
      "0  sai   20       True\n",
      "1  sub   21       True\n",
      "2  poo   22      False\n"
     ]
    }
   ],
   "source": [
    "import pandas as pd\n",
    "d1={\"name\":[\"sai\",\"sub\",\"poo\"],\"age\":[20,21,22]}\n",
    "d2={\"qualified\":[True,True,False]}\n",
    "df1=pd.DataFrame(d1)\n",
    "print(df1)\n",
    "df2=pd.DataFrame(d2)\n",
    "print(df2)\n",
    "newdf=df1 .join(df2)\n",
    "print(newdf)"
   ]
  },
  {
   "cell_type": "code",
   "execution_count": null,
   "id": "08fd00ba",
   "metadata": {},
   "outputs": [],
   "source": [
    "                                                                                                                                                                                                                                                     "
   ]
  },
  {
   "cell_type": "code",
   "execution_count": 13,
   "id": "bd63c8d9",
   "metadata": {},
   "outputs": [
    {
     "name": "stdout",
     "output_type": "stream",
     "text": [
      "   name  age\n",
      "0   sai   20\n",
      "1   sri   19\n",
      "2  pavi   20\n",
      "            name  age\n",
      "0         harish   19\n",
      "1        kishore   18\n",
      "2  balaganapathy   19\n",
      "          name_x  age name_y\n",
      "0         harish   19    sri\n",
      "1  balaganapathy   19    sri\n"
     ]
    }
   ],
   "source": [
    " import pandas as pd\n",
    "d1={\"name\":[\"sai\",\"sri\",\"pavi\"],\"age\":[20,19,20]}\n",
    "d2={\"name\":[\"harish\",\"kishore\",\"balaganapathy\"],\"age\":[19,18,19]}\n",
    "df1=pd.DataFrame(d1)\n",
    "print(df1)\n",
    "df2=pd.DataFrame(d2)\n",
    "print(df2) \n",
    "newdf1=df2.merge(df1,on='age')\n",
    "print(newdf1)"
   ]
  },
  {
   "cell_type": "code",
   "execution_count": 15,
   "id": "023c5ab0",
   "metadata": {},
   "outputs": [
    {
     "name": "stdout",
     "output_type": "stream",
     "text": [
      "  team  points  assits  rebounds\n",
      "0    A      90      12        56\n",
      "1    B      56      34        43\n",
      "2    C      78      23        55\n",
      "3    D      88      44        12\n",
      "   team  variable  value\n",
      "0     A    points     90\n",
      "1     B    points     56\n",
      "2     C    points     78\n",
      "3     D    points     88\n",
      "4     A    assits     12\n",
      "5     B    assits     34\n",
      "6     C    assits     23\n",
      "7     D    assits     44\n",
      "8     A  rebounds     56\n",
      "9     B  rebounds     43\n",
      "10    C  rebounds     55\n",
      "11    D  rebounds     12\n"
     ]
    }
   ],
   "source": [
    "import pandas as pd\n",
    "df=pd.DataFrame({'team':['A','B','C','D'],'points':[90,56,78,88],'assits':[12,34,23,44],'rebounds':[56,43,55,12]})\n",
    "print(df)\n",
    "df=pd.melt(df,id_vars='team',value_vars=['points','assits','rebounds'])\n",
    "print(df)"
   ]
  },
  {
   "cell_type": "code",
   "execution_count": null,
   "id": "830b9e51",
   "metadata": {},
   "outputs": [],
   "source": []
  },
  {
   "cell_type": "code",
   "execution_count": null,
   "id": "74a1267a",
   "metadata": {},
   "outputs": [],
   "source": []
  },
  {
   "cell_type": "code",
   "execution_count": null,
   "id": "b9d00285",
   "metadata": {},
   "outputs": [],
   "source": []
  }
 ],
 "metadata": {
  "kernelspec": {
   "display_name": "Python 3 (ipykernel)",
   "language": "python",
   "name": "python3"
  },
  "language_info": {
   "codemirror_mode": {
    "name": "ipython",
    "version": 3
   },
   "file_extension": ".py",
   "mimetype": "text/x-python",
   "name": "python",
   "nbconvert_exporter": "python",
   "pygments_lexer": "ipython3",
   "version": "3.11.5"
  }
 },
 "nbformat": 4,
 "nbformat_minor": 5
}
