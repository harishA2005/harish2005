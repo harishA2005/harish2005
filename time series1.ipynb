{
  "nbformat": 4,
  "nbformat_minor": 0,
  "metadata": {
    "colab": {
      "provenance": []
    },
    "kernelspec": {
      "name": "python3",
      "display_name": "Python 3"
    },
    "language_info": {
      "name": "python"
    }
  },
  "cells": [
    {
      "cell_type": "code",
      "execution_count": 1,
      "metadata": {
        "colab": {
          "base_uri": "https://localhost:8080/"
        },
        "id": "0b14OD9kZs1n",
        "outputId": "e4dd257f-6e20-46db-859c-0ab1dbf72c95"
      },
      "outputs": [
        {
          "output_type": "stream",
          "name": "stdout",
          "text": [
            "today-now function: 2025-04-07 04:00:45.259776\n"
          ]
        }
      ],
      "source": [
        "import datetime\n",
        "a=datetime.datetime.now()\n",
        "print(\"today-now function:\",a)"
      ]
    },
    {
      "cell_type": "code",
      "source": [
        "today=datetime.datetime.today()\n",
        "print(\"\\ntoday: &quot;\",today)"
      ],
      "metadata": {
        "colab": {
          "base_uri": "https://localhost:8080/"
        },
        "id": "g4P8kGaGaHYP",
        "outputId": "c7318066-574e-4ac3-c6a5-f46852222611"
      },
      "execution_count": 2,
      "outputs": [
        {
          "output_type": "stream",
          "name": "stdout",
          "text": [
            "\n",
            "today: &quot; 2025-04-07 04:01:19.746559\n"
          ]
        }
      ]
    },
    {
      "cell_type": "code",
      "source": [
        "tomorrow=today+datetime.timedelta(days=3)\n",
        "print(\"\\ntomorrow:&quot;\",tomorrow)"
      ],
      "metadata": {
        "colab": {
          "base_uri": "https://localhost:8080/"
        },
        "id": "b1K5a-WJaPkS",
        "outputId": "50d04ce2-c943-48f7-c712-efcc879e5e97"
      },
      "execution_count": 3,
      "outputs": [
        {
          "output_type": "stream",
          "name": "stdout",
          "text": [
            "\n",
            "tomorrow:&quot; 2025-04-10 04:01:19.746559\n"
          ]
        }
      ]
    },
    {
      "cell_type": "code",
      "source": [
        "yesterday=today-datetime.timedelta(days=2)\n",
        "print(\"\\nyesterday:\",yesterday)"
      ],
      "metadata": {
        "colab": {
          "base_uri": "https://localhost:8080/"
        },
        "id": "u3OXgL9RaP12",
        "outputId": "81ce027d-67cc-4153-a5f6-687ebffb57a0"
      },
      "execution_count": 5,
      "outputs": [
        {
          "output_type": "stream",
          "name": "stdout",
          "text": [
            "\n",
            "yesterday: 2025-04-05 04:01:19.746559\n"
          ]
        }
      ]
    },
    {
      "cell_type": "code",
      "source": [
        "a=datetime.datetime.now()\n",
        "b=datetime.datetime(2020,6,8,23,10,25,404040)\n",
        "print(\"\\ndate format [2020,6,8,23,10,25,404040):\",b)"
      ],
      "metadata": {
        "colab": {
          "base_uri": "https://localhost:8080/"
        },
        "id": "badxB3icaP6u",
        "outputId": "9196c555-561c-48e1-c814-48e266fe1bd7"
      },
      "execution_count": 6,
      "outputs": [
        {
          "output_type": "stream",
          "name": "stdout",
          "text": [
            "\n",
            "date format [2020,6,8,23,10,25,404040): 2020-06-08 23:10:25.404040\n"
          ]
        }
      ]
    },
    {
      "cell_type": "code",
      "source": [
        "from datetime import date\n",
        "d=date(2024, 12, 31)\n",
        "print(\"\\nReplacing date\",d,d.replace(day=15))"
      ],
      "metadata": {
        "colab": {
          "base_uri": "https://localhost:8080/"
        },
        "id": "F23Nt60hbJkT",
        "outputId": "b88482af-ed39-496e-b6ba-33c1a60aaa15"
      },
      "execution_count": 10,
      "outputs": [
        {
          "output_type": "stream",
          "name": "stdout",
          "text": [
            "\n",
            "Replacing date 2024-12-31 2024-12-15\n"
          ]
        }
      ]
    },
    {
      "cell_type": "code",
      "source": [
        "t=date(2004,4,17)\n",
        "d=date(2004,4,17).ctime()\n",
        "print(\"\\nDay and Month:\",t,d)"
      ],
      "metadata": {
        "colab": {
          "base_uri": "https://localhost:8080/"
        },
        "id": "IYKAmxYMbQMD",
        "outputId": "1b9c70d4-7dd4-421a-b71d-63de443a4099"
      },
      "execution_count": 11,
      "outputs": [
        {
          "output_type": "stream",
          "name": "stdout",
          "text": [
            "\n",
            "Day and Month: 2004-04-17 Sat Apr 17 00:00:00 2004\n"
          ]
        }
      ]
    },
    {
      "cell_type": "code",
      "source": [
        "today=date.today()\n",
        "print(\"\\nToday:\",today)\n",
        "print(\"Current year:\", today.year)\n",
        "print(\"Current month:\", today.month)\n",
        "print(\"Current day:\",today.day)"
      ],
      "metadata": {
        "colab": {
          "base_uri": "https://localhost:8080/"
        },
        "id": "-6dwJGPUbXQe",
        "outputId": "f0b37a5e-f9fa-4e48-cd76-2b1e2240b1b2"
      },
      "execution_count": 13,
      "outputs": [
        {
          "output_type": "stream",
          "name": "stdout",
          "text": [
            "\n",
            "Today: 2025-04-07\n",
            "Current year: 2025\n",
            "Current month: 4\n",
            "Current day: 7\n"
          ]
        }
      ]
    }
  ]
}
