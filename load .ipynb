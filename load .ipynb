{
  "metadata": {
    "kernelspec": {
      "name": "python",
      "display_name": "Python (Pyodide)",
      "language": "python"
    },
    "language_info": {
      "codemirror_mode": {
        "name": "python",
        "version": 3
      },
      "file_extension": ".py",
      "mimetype": "text/x-python",
      "name": "python",
      "nbconvert_exporter": "python",
      "pygments_lexer": "ipython3",
      "version": "3.8"
    }
  },
  "nbformat_minor": 5,
  "nbformat": 4,
  "cells": [
    {
      "id": "f9357fe7-b429-462a-9a4d-f0ac7b947030",
      "cell_type": "code",
      "source": "import pandas as pd\nd=pd.read_csv(\"employees details.csv\")\nprint(d)",
      "metadata": {
        "trusted": true
      },
      "outputs": [
        {
          "name": "stdout",
          "output_type": "stream",
          "text": "    Emp ID Name Prefix First Name Middle Initial Last Name Gender  \\\n0   677509        Drs.       Lois              H    Walker      F   \n1   940761         Ms.     Brenda              S  Robinson      F   \n2   428945         Dr.        Joe              W  Robinson      M   \n3   408351        Drs.      Diane              I     Evans      F   \n4   193819         Mr.   Benjamin              R   Russell      M   \n..     ...         ...        ...            ...       ...    ...   \n95  639892         Mr.       Jose              K      Hill      M   \n96  704709         Dr.     Harold              Z    Nelson      M   \n97  461593         Ms.     Nicole              O      Ward      F   \n98  392491        Mrs.    Theresa              R    Murphy      F   \n99  495141        Drs.      Tammy              B     Young      F   \n\n                          E Mail     Father's Name       Mother's Name  \\\n0        lois.walker@hotmail.com     Donald Walker        Helen Walker   \n1      brenda.robinson@gmail.com  Raymond Robinson       Judy Robinson   \n2         joe.robinson@gmail.com    Scott Robinson  Stephanie Robinson   \n3          diane.evans@yahoo.com       Jason Evans      Michelle Evans   \n4   benjamin.russell@charter.net   Gregory Russell   Elizabeth Russell   \n..                           ...               ...                 ...   \n95         jose.hill@hotmail.com       Carlos Hill           Anna Hill   \n96       harold.nelson@gmail.com    Richard Nelson       Pamela Nelson   \n97         nicole.ward@yahoo.com        Ralph Ward          Julia Ward   \n98      theresa.murphy@gmail.com     George Murphy   Jacqueline Murphy   \n99       tammy.young@comcast.net      Andrew Young        Brenda Young   \n\n   Mother's Maiden Name  Salary  \n0                 Lewis  168251  \n1                 Perry   51063  \n2                Taylor   50155  \n3                 Allen  180294  \n4                Nelson  117642  \n..                  ...     ...  \n95                Hayes  129774  \n96                Smith  156194  \n97                  Lee   95673  \n98             Peterson   51015  \n99             Robinson   93650  \n\n[100 rows x 11 columns]\n"
        }
      ],
      "execution_count": 2
    },
    {
      "id": "25a09e0a-d4f1-435f-9191-96e747b746fc",
      "cell_type": "code",
      "source": "df=pd.DataFrame(d)\nprint(\"columns\",df.columns)\nprint(df.shape)",
      "metadata": {
        "trusted": true
      },
      "outputs": [
        {
          "name": "stdout",
          "output_type": "stream",
          "text": "columns Index(['Emp ID', 'Name Prefix', 'First Name', 'Middle Initial', 'Last Name',\n       'Gender', 'E Mail', 'Father's Name', 'Mother's Name',\n       'Mother's Maiden Name', 'Salary'],\n      dtype='object')\n(100, 11)\n"
        }
      ],
      "execution_count": 5
    },
    {
      "id": "3cc53aed-dff5-444c-988b-4cd62fc036fd",
      "cell_type": "code",
      "source": " df=pd.DataFrame(d)\nprint(\"columns\",df.columns)\nprint(df.shape)\nprint(\"Team\",df)",
      "metadata": {
        "trusted": true
      },
      "outputs": [
        {
          "name": "stdout",
          "output_type": "stream",
          "text": "columns Index(['Emp ID', 'Name Prefix', 'First Name', 'Middle Initial', 'Last Name',\n       'Gender', 'E Mail', 'Father's Name', 'Mother's Name',\n       'Mother's Maiden Name', 'Salary'],\n      dtype='object')\n(100, 11)\nTeam     Emp ID Name Prefix First Name Middle Initial Last Name Gender  \\\n0   677509        Drs.       Lois              H    Walker      F   \n1   940761         Ms.     Brenda              S  Robinson      F   \n2   428945         Dr.        Joe              W  Robinson      M   \n3   408351        Drs.      Diane              I     Evans      F   \n4   193819         Mr.   Benjamin              R   Russell      M   \n..     ...         ...        ...            ...       ...    ...   \n95  639892         Mr.       Jose              K      Hill      M   \n96  704709         Dr.     Harold              Z    Nelson      M   \n97  461593         Ms.     Nicole              O      Ward      F   \n98  392491        Mrs.    Theresa              R    Murphy      F   \n99  495141        Drs.      Tammy              B     Young      F   \n\n                          E Mail     Father's Name       Mother's Name  \\\n0        lois.walker@hotmail.com     Donald Walker        Helen Walker   \n1      brenda.robinson@gmail.com  Raymond Robinson       Judy Robinson   \n2         joe.robinson@gmail.com    Scott Robinson  Stephanie Robinson   \n3          diane.evans@yahoo.com       Jason Evans      Michelle Evans   \n4   benjamin.russell@charter.net   Gregory Russell   Elizabeth Russell   \n..                           ...               ...                 ...   \n95         jose.hill@hotmail.com       Carlos Hill           Anna Hill   \n96       harold.nelson@gmail.com    Richard Nelson       Pamela Nelson   \n97         nicole.ward@yahoo.com        Ralph Ward          Julia Ward   \n98      theresa.murphy@gmail.com     George Murphy   Jacqueline Murphy   \n99       tammy.young@comcast.net      Andrew Young        Brenda Young   \n\n   Mother's Maiden Name  Salary  \n0                 Lewis  168251  \n1                 Perry   51063  \n2                Taylor   50155  \n3                 Allen  180294  \n4                Nelson  117642  \n..                  ...     ...  \n95                Hayes  129774  \n96                Smith  156194  \n97                  Lee   95673  \n98             Peterson   51015  \n99             Robinson   93650  \n\n[100 rows x 11 columns]\n"
        }
      ],
      "execution_count": 14
    },
    {
      "id": "130df2e3-b172-4a53-a1b5-ab892d7893f0",
      "cell_type": "code",
      "source": "print(df[1:5])",
      "metadata": {
        "trusted": true
      },
      "outputs": [
        {
          "name": "stdout",
          "output_type": "stream",
          "text": "   Emp ID Name Prefix First Name Middle Initial Last Name Gender  \\\n1  940761         Ms.     Brenda              S  Robinson      F   \n2  428945         Dr.        Joe              W  Robinson      M   \n3  408351        Drs.      Diane              I     Evans      F   \n4  193819         Mr.   Benjamin              R   Russell      M   \n\n                         E Mail     Father's Name       Mother's Name  \\\n1     brenda.robinson@gmail.com  Raymond Robinson       Judy Robinson   \n2        joe.robinson@gmail.com    Scott Robinson  Stephanie Robinson   \n3         diane.evans@yahoo.com       Jason Evans      Michelle Evans   \n4  benjamin.russell@charter.net   Gregory Russell   Elizabeth Russell   \n\n  Mother's Maiden Name  Salary  \n1                Perry   51063  \n2               Taylor   50155  \n3                Allen  180294  \n4               Nelson  117642  \n"
        }
      ],
      "execution_count": 15
    },
    {
      "id": "a635dbd3-91f3-47f9-a74b-5daef1ae821d",
      "cell_type": "code",
      "source": "print(\"particular person details\",df.loc[9])",
      "metadata": {
        "trusted": true
      },
      "outputs": [
        {
          "name": "stdout",
          "output_type": "stream",
          "text": "particular person details Emp ID                                        162402\nName Prefix                                     Hon.\nFirst Name                                     Diana\nMiddle Initial                                     T\nLast Name                                   Peterson\nGender                                             F\nE Mail                  diana.peterson@hotmail.co.uk\nFather's Name                      Jonathan Peterson\nMother's Name                     Christina Peterson\nMother's Maiden Name                            Ross\nSalary                                         43010\nName: 9, dtype: object\n"
        }
      ],
      "execution_count": 16
    },
    {
      "id": "4392ae3a-c66a-4747-917b-f2d99d0e1138",
      "cell_type": "code",
      "source": "print(d.loc[d ['Salary']== 1000500])",
      "metadata": {
        "trusted": true
      },
      "outputs": [
        {
          "name": "stdout",
          "output_type": "stream",
          "text": "Empty DataFrame\nColumns: [Emp ID, Name Prefix, First Name, Middle Initial, Last Name, Gender, E Mail, Father's Name, Mother's Name, Mother's Maiden Name, Salary]\nIndex: []\n"
        }
      ],
      "execution_count": 18
    },
    {
      "id": "b6602471-b837-4982-9e5d-b5b2270f9770",
      "cell_type": "code",
      "source": "df=d['Salary']/999\nprint(d)",
      "metadata": {
        "trusted": true
      },
      "outputs": [
        {
          "name": "stdout",
          "output_type": "stream",
          "text": "    Emp ID Name Prefix First Name Middle Initial Last Name Gender  \\\n0   677509        Drs.       Lois              H    Walker      F   \n1   940761         Ms.     Brenda              S  Robinson      F   \n2   428945         Dr.        Joe              W  Robinson      M   \n3   408351        Drs.      Diane              I     Evans      F   \n4   193819         Mr.   Benjamin              R   Russell      M   \n..     ...         ...        ...            ...       ...    ...   \n95  639892         Mr.       Jose              K      Hill      M   \n96  704709         Dr.     Harold              Z    Nelson      M   \n97  461593         Ms.     Nicole              O      Ward      F   \n98  392491        Mrs.    Theresa              R    Murphy      F   \n99  495141        Drs.      Tammy              B     Young      F   \n\n                          E Mail     Father's Name       Mother's Name  \\\n0        lois.walker@hotmail.com     Donald Walker        Helen Walker   \n1      brenda.robinson@gmail.com  Raymond Robinson       Judy Robinson   \n2         joe.robinson@gmail.com    Scott Robinson  Stephanie Robinson   \n3          diane.evans@yahoo.com       Jason Evans      Michelle Evans   \n4   benjamin.russell@charter.net   Gregory Russell   Elizabeth Russell   \n..                           ...               ...                 ...   \n95         jose.hill@hotmail.com       Carlos Hill           Anna Hill   \n96       harold.nelson@gmail.com    Richard Nelson       Pamela Nelson   \n97         nicole.ward@yahoo.com        Ralph Ward          Julia Ward   \n98      theresa.murphy@gmail.com     George Murphy   Jacqueline Murphy   \n99       tammy.young@comcast.net      Andrew Young        Brenda Young   \n\n   Mother's Maiden Name  Salary  \n0                 Lewis  168251  \n1                 Perry   51063  \n2                Taylor   50155  \n3                 Allen  180294  \n4                Nelson  117642  \n..                  ...     ...  \n95                Hayes  129774  \n96                Smith  156194  \n97                  Lee   95673  \n98             Peterson   51015  \n99             Robinson   93650  \n\n[100 rows x 11 columns]\n"
        }
      ],
      "execution_count": 19
    }
  ]
}
